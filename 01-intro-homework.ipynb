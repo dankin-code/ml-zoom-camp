{
 "cells": [
  {
   "cell_type": "code",
   "execution_count": 5,
   "id": "98e3efe9-cb31-4d16-9311-b9d58981e469",
   "metadata": {},
   "outputs": [],
   "source": [
    "import pandas as pd"
   ]
  },
  {
   "cell_type": "markdown",
   "id": "b4b06fab-c300-48dd-a3d8-ec9b3d5cb366",
   "metadata": {},
   "source": [
    "## Pandas Versions ##"
   ]
  },
  {
   "cell_type": "code",
   "execution_count": 6,
   "id": "a61e0dbb-b199-401d-82f2-73d584b4ead5",
   "metadata": {},
   "outputs": [
    {
     "data": {
      "text/plain": [
       "'2.0.3'"
      ]
     },
     "execution_count": 6,
     "metadata": {},
     "output_type": "execute_result"
    }
   ],
   "source": [
    "pd.__version__"
   ]
  },
  {
   "cell_type": "markdown",
   "id": "b56785a8-562b-4107-b7d6-0fe0039e6c97",
   "metadata": {},
   "source": [
    "## Read CSV file ##"
   ]
  },
  {
   "cell_type": "code",
   "execution_count": 7,
   "id": "292a2ca6-e8e5-4b0e-bf19-729bd016874d",
   "metadata": {},
   "outputs": [],
   "source": [
    "df = pd.read_csv('.\\datasets\\housing.csv')"
   ]
  },
  {
   "cell_type": "markdown",
   "id": "cbb436b2-4d05-46a0-ac81-434094535b9f",
   "metadata": {},
   "source": [
    "## Get number of columns ##"
   ]
  },
  {
   "cell_type": "code",
   "execution_count": 8,
   "id": "9d849daf-2ce4-474c-8537-76652d75f64f",
   "metadata": {},
   "outputs": [
    {
     "data": {
      "text/plain": [
       "(20640, 10)"
      ]
     },
     "execution_count": 8,
     "metadata": {},
     "output_type": "execute_result"
    }
   ],
   "source": [
    "df.shape"
   ]
  },
  {
   "cell_type": "code",
   "execution_count": 9,
   "id": "e88b4633-45b6-498f-a3c0-7651a5dc0f76",
   "metadata": {},
   "outputs": [
    {
     "data": {
      "text/plain": [
       "<bound method DataFrame.info of        longitude  latitude  housing_median_age  total_rooms  total_bedrooms  \\\n",
       "0        -122.23     37.88                41.0        880.0           129.0   \n",
       "1        -122.22     37.86                21.0       7099.0          1106.0   \n",
       "2        -122.24     37.85                52.0       1467.0           190.0   \n",
       "3        -122.25     37.85                52.0       1274.0           235.0   \n",
       "4        -122.25     37.85                52.0       1627.0           280.0   \n",
       "...          ...       ...                 ...          ...             ...   \n",
       "20635    -121.09     39.48                25.0       1665.0           374.0   \n",
       "20636    -121.21     39.49                18.0        697.0           150.0   \n",
       "20637    -121.22     39.43                17.0       2254.0           485.0   \n",
       "20638    -121.32     39.43                18.0       1860.0           409.0   \n",
       "20639    -121.24     39.37                16.0       2785.0           616.0   \n",
       "\n",
       "       population  households  median_income  median_house_value  \\\n",
       "0           322.0       126.0         8.3252            452600.0   \n",
       "1          2401.0      1138.0         8.3014            358500.0   \n",
       "2           496.0       177.0         7.2574            352100.0   \n",
       "3           558.0       219.0         5.6431            341300.0   \n",
       "4           565.0       259.0         3.8462            342200.0   \n",
       "...           ...         ...            ...                 ...   \n",
       "20635       845.0       330.0         1.5603             78100.0   \n",
       "20636       356.0       114.0         2.5568             77100.0   \n",
       "20637      1007.0       433.0         1.7000             92300.0   \n",
       "20638       741.0       349.0         1.8672             84700.0   \n",
       "20639      1387.0       530.0         2.3886             89400.0   \n",
       "\n",
       "      ocean_proximity  \n",
       "0            NEAR BAY  \n",
       "1            NEAR BAY  \n",
       "2            NEAR BAY  \n",
       "3            NEAR BAY  \n",
       "4            NEAR BAY  \n",
       "...               ...  \n",
       "20635          INLAND  \n",
       "20636          INLAND  \n",
       "20637          INLAND  \n",
       "20638          INLAND  \n",
       "20639          INLAND  \n",
       "\n",
       "[20640 rows x 10 columns]>"
      ]
     },
     "execution_count": 9,
     "metadata": {},
     "output_type": "execute_result"
    }
   ],
   "source": [
    "df.info"
   ]
  },
  {
   "cell_type": "markdown",
   "id": "335d6848-884e-4524-9f76-4a6c80ad95c8",
   "metadata": {},
   "source": [
    "## Columns with missing data ##"
   ]
  },
  {
   "cell_type": "code",
   "execution_count": 10,
   "id": "5f9ee021-83a2-4ef1-a938-785c2306e69e",
   "metadata": {},
   "outputs": [],
   "source": [
    "missing_values = df.isnull()"
   ]
  },
  {
   "cell_type": "code",
   "execution_count": 11,
   "id": "52c7ed50-ae3c-4a85-b162-33e972e48ef8",
   "metadata": {},
   "outputs": [],
   "source": [
    "missing_counts = missing_values.sum()"
   ]
  },
  {
   "cell_type": "code",
   "execution_count": 12,
   "id": "555c4ade-9e96-45b4-a637-56529db23829",
   "metadata": {},
   "outputs": [
    {
     "name": "stdout",
     "output_type": "stream",
     "text": [
      "['total_bedrooms']\n"
     ]
    }
   ],
   "source": [
    "print(missing_counts[missing_counts > 0].index.tolist())"
   ]
  },
  {
   "cell_type": "markdown",
   "id": "fcd3e27b-65cf-4a35-8b86-75da26141210",
   "metadata": {},
   "source": [
    "## Number of Unique values in the 'ocean_proximity' column"
   ]
  },
  {
   "cell_type": "code",
   "execution_count": 13,
   "id": "a2f92785-69b3-428d-9887-357237639c45",
   "metadata": {},
   "outputs": [
    {
     "name": "stdout",
     "output_type": "stream",
     "text": [
      "5\n"
     ]
    }
   ],
   "source": [
    "ocean_proximity_values = df['ocean_proximity']\n",
    "print(ocean_proximity_values.nunique())"
   ]
  },
  {
   "cell_type": "markdown",
   "id": "ccc4ea04-b6d5-4e66-af23-24f69d5c8f9c",
   "metadata": {},
   "source": [
    "## Average value of the 'median_house_value' for the houses near the bay ##"
   ]
  },
  {
   "cell_type": "code",
   "execution_count": 14,
   "id": "215d0ada-15e3-4426-ba66-f003d84ac47c",
   "metadata": {},
   "outputs": [
    {
     "data": {
      "text/plain": [
       "259212.31179039303"
      ]
     },
     "execution_count": 14,
     "metadata": {},
     "output_type": "execute_result"
    }
   ],
   "source": [
    "df_houses_near_bay = df[df['ocean_proximity'] == 'NEAR BAY']\n",
    "avg_value_median_house_value = df_houses_near_bay['median_house_value'].mean()\n",
    "avg_value_median_house_value"
   ]
  },
  {
   "cell_type": "markdown",
   "id": "cda5e4d1-f89f-43c5-a7d9-a9152e171eca",
   "metadata": {},
   "source": [
    "## Has the mean value changed after filling missing values? ##"
   ]
  },
  {
   "cell_type": "code",
   "execution_count": 15,
   "id": "aa16a47d-9331-4847-9ffa-b7b2ea7e0143",
   "metadata": {},
   "outputs": [
    {
     "data": {
      "text/plain": [
       "537.8705525375618"
      ]
     },
     "execution_count": 15,
     "metadata": {},
     "output_type": "execute_result"
    }
   ],
   "source": [
    "# find mean before missing values\n",
    "average_bedrooms_before = df['total_bedrooms'].mean()\n",
    "average_bedrooms_before\n",
    "\n",
    "\n",
    "\n"
   ]
  },
  {
   "cell_type": "code",
   "execution_count": 16,
   "id": "973b9627-1dc2-4cf3-97d7-d6cf3f8fc741",
   "metadata": {},
   "outputs": [
    {
     "data": {
      "text/plain": [
       "537.8705525375617"
      ]
     },
     "execution_count": 16,
     "metadata": {},
     "output_type": "execute_result"
    }
   ],
   "source": [
    "# find mean after filling for missing values\n",
    "filled_values = df['total_bedrooms'].fillna(average_bedrooms_before)\n",
    "average_bedrooms_after = filled_values.mean()\n",
    "average_bedrooms_after"
   ]
  },
  {
   "cell_type": "markdown",
   "id": "9ed80141-46e2-4bf1-a983-f96ef4510195",
   "metadata": {},
   "source": [
    "## Value of the last element of w ##*"
   ]
  },
  {
   "cell_type": "code",
   "execution_count": 17,
   "id": "bf5babf2-35f2-4523-9cc7-c44fe1507cc6",
   "metadata": {},
   "outputs": [
    {
     "name": "stdout",
     "output_type": "stream",
     "text": [
      "X\n",
      "[[  27. 1675.  521.]\n",
      " [  52. 2359.  591.]\n",
      " [  52. 2127.  512.]\n",
      " [  52.  996.  264.]\n",
      " [  29.  716.  214.]]\n"
     ]
    }
   ],
   "source": [
    "import numpy as np\n",
    "# options located on islands\n",
    "df_houses_on_islands = df[df['ocean_proximity'] == 'ISLAND']\n",
    "X = df_houses_on_islands[['housing_median_age', 'total_rooms','total_bedrooms']].values\n",
    "print('X')\n",
    "print(X)"
   ]
  },
  {
   "cell_type": "code",
   "execution_count": 18,
   "id": "03a0eb37-3586-474a-81a9-368759e3b4b3",
   "metadata": {},
   "outputs": [
    {
     "data": {
      "text/plain": [
       "array([[  27.,   52.,   52.,   52.,   29.],\n",
       "       [1675., 2359., 2127.,  996.,  716.],\n",
       "       [ 521.,  591.,  512.,  264.,  214.]])"
      ]
     },
     "execution_count": 18,
     "metadata": {},
     "output_type": "execute_result"
    }
   ],
   "source": [
    "XT = X.T\n",
    "XT"
   ]
  },
  {
   "cell_type": "code",
   "execution_count": 19,
   "id": "6cb20e20-97b7-4289-9e95-5971a9f69415",
   "metadata": {},
   "outputs": [
    {
     "data": {
      "text/plain": [
       "(5, 3)"
      ]
     },
     "execution_count": 19,
     "metadata": {},
     "output_type": "execute_result"
    }
   ],
   "source": [
    "X.shape"
   ]
  },
  {
   "cell_type": "code",
   "execution_count": 20,
   "id": "d781bef9-a67c-4eb4-84d2-c238afa40b3b",
   "metadata": {},
   "outputs": [
    {
     "data": {
      "text/plain": [
       "(3, 5)"
      ]
     },
     "execution_count": 20,
     "metadata": {},
     "output_type": "execute_result"
    }
   ],
   "source": [
    "XT.shape"
   ]
  },
  {
   "cell_type": "code",
   "execution_count": 21,
   "id": "39320c2e-3a88-474d-a142-3070e81b8976",
   "metadata": {},
   "outputs": [
    {
     "data": {
      "text/plain": [
       "array([[9.6820000e+03, 3.5105300e+05, 9.1357000e+04],\n",
       "       [3.5105300e+05, 1.4399307e+07, 3.7720360e+06],\n",
       "       [9.1357000e+04, 3.7720360e+06, 9.9835800e+05]])"
      ]
     },
     "execution_count": 21,
     "metadata": {},
     "output_type": "execute_result"
    }
   ],
   "source": [
    "XTX = np.dot(XT, X)\n",
    "XTX"
   ]
  },
  {
   "cell_type": "code",
   "execution_count": 22,
   "id": "5f44a837-ec1a-43c2-93a6-b2b536f3e70d",
   "metadata": {},
   "outputs": [
    {
     "data": {
      "text/plain": [
       "(array([[ 9.19403586e-04, -3.66412216e-05,  5.43072261e-05],\n",
       "        [-3.66412216e-05,  8.23303633e-06, -2.77534485e-05],\n",
       "        [ 5.43072261e-05, -2.77534485e-05,  1.00891325e-04]]),\n",
       " 0.0010083530589819155)"
      ]
     },
     "execution_count": 22,
     "metadata": {},
     "output_type": "execute_result"
    }
   ],
   "source": [
    "XTX_inv = np.linalg.inv(XTX)\n",
    "XTX_inv, XTX_inv.sum()"
   ]
  },
  {
   "cell_type": "code",
   "execution_count": 23,
   "id": "5711fe35-2030-45d2-a6cd-fdeeb4596a83",
   "metadata": {},
   "outputs": [],
   "source": [
    "y = [950, 1300, 800, 1000, 1300]"
   ]
  },
  {
   "cell_type": "code",
   "execution_count": 24,
   "id": "35e6ad1b-c7da-4fbf-9938-ae3a83c46ebb",
   "metadata": {},
   "outputs": [],
   "source": [
    "w = np.dot(np.dot(XTX_inv,XT),y)"
   ]
  },
  {
   "cell_type": "code",
   "execution_count": 25,
   "id": "e13936e5-98d9-4369-995b-ada916c1a4a5",
   "metadata": {},
   "outputs": [
    {
     "data": {
      "text/plain": [
       "23.123309612152052"
      ]
     },
     "execution_count": 25,
     "metadata": {},
     "output_type": "execute_result"
    }
   ],
   "source": [
    "first_element = w[0]\n",
    "first_element"
   ]
  },
  {
   "cell_type": "code",
   "execution_count": null,
   "id": "de7d78c2-d5b7-4ccd-9078-f6000681084b",
   "metadata": {},
   "outputs": [],
   "source": []
  }
 ],
 "metadata": {
  "kernelspec": {
   "display_name": "Python 3 (ipykernel)",
   "language": "python",
   "name": "python3"
  },
  "language_info": {
   "codemirror_mode": {
    "name": "ipython",
    "version": 3
   },
   "file_extension": ".py",
   "mimetype": "text/x-python",
   "name": "python",
   "nbconvert_exporter": "python",
   "pygments_lexer": "ipython3",
   "version": "3.10.10"
  }
 },
 "nbformat": 4,
 "nbformat_minor": 5
}
